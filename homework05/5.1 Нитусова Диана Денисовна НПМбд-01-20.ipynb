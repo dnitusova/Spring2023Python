{
 "cells": [
  {
   "cell_type": "markdown",
   "id": "30dff551",
   "metadata": {},
   "source": [
    "### Четные индексы."
   ]
  },
  {
   "cell_type": "code",
   "execution_count": 15,
   "id": "6a8af952",
   "metadata": {},
   "outputs": [
    {
     "name": "stdout",
     "output_type": "stream",
     "text": [
      "1 2 3 4 5\n",
      "1 3 5\n"
     ]
    }
   ],
   "source": [
    "print(' '.join(input().split()[::2]))"
   ]
  },
  {
   "cell_type": "markdown",
   "id": "9022733e",
   "metadata": {},
   "source": [
    "### Наибольший элемент и его индекс."
   ]
  },
  {
   "cell_type": "code",
   "execution_count": 16,
   "id": "a826a1fd",
   "metadata": {},
   "outputs": [
    {
     "name": "stdout",
     "output_type": "stream",
     "text": [
      "1 2 3 2 1\n",
      "3 2\n"
     ]
    }
   ],
   "source": [
    "a = list(map(int, input().split()))\n",
    "print(max(a), a.index(max(a)))"
   ]
  },
  {
   "cell_type": "markdown",
   "id": "961bba00",
   "metadata": {},
   "source": [
    "### Вывести в обратном порядке."
   ]
  },
  {
   "cell_type": "code",
   "execution_count": 17,
   "id": "37811cff",
   "metadata": {},
   "outputs": [
    {
     "name": "stdout",
     "output_type": "stream",
     "text": [
      "1 2 3 4 5\n",
      "5 4 3 2 1\n"
     ]
    }
   ],
   "source": [
    "print(' '.join(input().split()[::-1]))"
   ]
  },
  {
   "cell_type": "markdown",
   "id": "51bce228",
   "metadata": {},
   "source": [
    "### Переставить соседние."
   ]
  },
  {
   "cell_type": "code",
   "execution_count": 18,
   "id": "7187fcd1",
   "metadata": {},
   "outputs": [
    {
     "name": "stdout",
     "output_type": "stream",
     "text": [
      "1 2 3 4 5\n",
      "2 1 4 3 5\n"
     ]
    }
   ],
   "source": [
    "a = input().split()\n",
    "a[:-1:2], a[1::2] = a[1::2], a[:-1:2]\n",
    "print(' '.join(a))"
   ]
  },
  {
   "cell_type": "markdown",
   "id": "bfd751e3",
   "metadata": {},
   "source": [
    "### Циклический сдвиг вправо."
   ]
  },
  {
   "cell_type": "code",
   "execution_count": 19,
   "id": "799943f1",
   "metadata": {},
   "outputs": [
    {
     "name": "stdout",
     "output_type": "stream",
     "text": [
      "1 2 3 4 5\n",
      "5 1 2 3 4\n"
     ]
    }
   ],
   "source": [
    "a = input().split()\n",
    "print(' '.join(a[-1:] + a[:-1]))"
   ]
  },
  {
   "cell_type": "markdown",
   "id": "49bc8d8e",
   "metadata": {},
   "source": [
    "### Удалить элемент."
   ]
  },
  {
   "cell_type": "code",
   "execution_count": 20,
   "id": "a58d7e9b",
   "metadata": {},
   "outputs": [
    {
     "name": "stdout",
     "output_type": "stream",
     "text": [
      "7 6 5 4 3 2 1\n",
      "2\n",
      "7 6 4 3 2 1\n"
     ]
    }
   ],
   "source": [
    "a = input().split()\n",
    "a.pop(int(input()))\n",
    "print(' '.join(a))"
   ]
  },
  {
   "cell_type": "markdown",
   "id": "7feee7ff",
   "metadata": {},
   "source": [
    "### Вставить элемент."
   ]
  },
  {
   "cell_type": "code",
   "execution_count": 21,
   "id": "c5be1dab",
   "metadata": {},
   "outputs": [
    {
     "name": "stdout",
     "output_type": "stream",
     "text": [
      "7 6 5 4 3 2 1\n",
      "2 0\n",
      "7 6 0 5 4 3 2 1\n"
     ]
    }
   ],
   "source": [
    "a = input().split()\n",
    "n, elem = map(int, input().split())\n",
    "print(' '.join(a[:n] + [str(elem)] + a[n:]))"
   ]
  },
  {
   "cell_type": "markdown",
   "id": "9ba8ece9",
   "metadata": {},
   "source": [
    "### Большой сдвиг."
   ]
  },
  {
   "cell_type": "code",
   "execution_count": 22,
   "id": "2c59b7ec",
   "metadata": {},
   "outputs": [
    {
     "name": "stdout",
     "output_type": "stream",
     "text": [
      "5 3 7 4 6\n",
      "3\n",
      "7 4 6 5 3\n"
     ]
    }
   ],
   "source": [
    "a, n = input().split(), int(input())\n",
    "print(' '.join(a[-n:]) + ' ' + ' '.join(a[:-n]))"
   ]
  }
 ],
 "metadata": {
  "kernelspec": {
   "display_name": "Python 3 (ipykernel)",
   "language": "python",
   "name": "python3"
  },
  "language_info": {
   "codemirror_mode": {
    "name": "ipython",
    "version": 3
   },
   "file_extension": ".py",
   "mimetype": "text/x-python",
   "name": "python",
   "nbconvert_exporter": "python",
   "pygments_lexer": "ipython3",
   "version": "3.9.13"
  }
 },
 "nbformat": 4,
 "nbformat_minor": 5
}
